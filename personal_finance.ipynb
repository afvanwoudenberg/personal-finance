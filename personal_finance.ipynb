{
 "cells": [
  {
   "cell_type": "markdown",
   "id": "1a27d244",
   "metadata": {},
   "source": [
    "# Personal Finance\n",
    "\n",
    "Aswin van Woudenberg (https://www.aswinvanwoudenberg.com | https://github.com/afvanwoudenberg)\n",
    "\n",
    "## Importing dependencies"
   ]
  },
  {
   "cell_type": "code",
   "execution_count": null,
   "id": "4256dcb9",
   "metadata": {},
   "outputs": [],
   "source": [
    "import pandas as pd\n",
    "import matplotlib.pyplot as plt\n",
    "import matplotlib.ticker as ticker\n",
    "import ipywidgets as widgets\n",
    "import numpy as np\n",
    "\n",
    "import calendar\n",
    "from datetime import datetime, timedelta\n",
    "\n",
    "import os\n",
    "\n",
    "from babel.numbers import format_currency\n",
    "\n",
    "from ipywidgets import interact"
   ]
  },
  {
   "cell_type": "markdown",
   "id": "7f869b74-d720-4124-8608-d734f2d3a690",
   "metadata": {},
   "source": [
    "## Reading CAMT.053 files"
   ]
  },
  {
   "cell_type": "markdown",
   "id": "26d6068c",
   "metadata": {},
   "source": [
    "The following constant defines where we will read the `CAMT.053` files from."
   ]
  },
  {
   "cell_type": "code",
   "execution_count": null,
   "id": "0f6bb6a6",
   "metadata": {},
   "outputs": [],
   "source": [
    "IMPORT_PATH = \"import\""
   ]
  },
  {
   "cell_type": "code",
   "execution_count": null,
   "id": "ac178fd0",
   "metadata": {},
   "outputs": [],
   "source": [
    "groupheaders = pd.DataFrame()\n",
    "statements = pd.DataFrame()\n",
    "balances = pd.DataFrame()\n",
    "entries = pd.DataFrame()\n",
    "\n",
    "for file in os.listdir(IMPORT_PATH):\n",
    "    # groupheaders\n",
    "    df = pd.read_xml(os.path.join(IMPORT_PATH, file), stylesheet=\"groupheader.xsl\")\n",
    "    df.insert(0, \"FileName\", file)\n",
    "    groupheaders = pd.concat([groupheaders, df], ignore_index=True)\n",
    "\n",
    "    # statements\n",
    "    df = pd.read_xml(os.path.join(IMPORT_PATH, file), stylesheet=\"statement.xsl\")\n",
    "    df.insert(0, \"FileName\", file)\n",
    "    statements = pd.concat([statements, df], ignore_index=True)\n",
    "\n",
    "    # balances\n",
    "    df = pd.read_xml(os.path.join(IMPORT_PATH, file), stylesheet=\"balance.xsl\")\n",
    "    df.insert(0, \"FileName\", file)\n",
    "    balances = pd.concat([balances, df], ignore_index=True)\n",
    "\n",
    "    df = pd.read_xml(os.path.join(IMPORT_PATH, file), stylesheet=\"entry.xsl\")\n",
    "    df.insert(0, \"FileName\", file)\n",
    "    entries = pd.concat([entries, df], ignore_index=True)\n",
    "\n",
    "groupheaders['CreationDateTime'] = pd.to_datetime(groupheaders.CreationDateTime)\n",
    "groupheaders.sort_values('CreationDateTime', ignore_index=True, inplace=True)\n",
    "\n",
    "statements['CreationDateTime'] = pd.to_datetime(statements.CreationDateTime)\n",
    "statements.sort_values('CreationDateTime', ignore_index=True, inplace=True)\n",
    "\n",
    "balances['Date'] = pd.to_datetime(balances.Date)\n",
    "balances.sort_values('Date', ignore_index=True, inplace=True)\n",
    "\n",
    "entries['BookingDate'] = pd.to_datetime(entries.BookingDate)\n",
    "entries['ValueDate'] = pd.to_datetime(entries.ValueDate)\n",
    "entries.sort_values('BookingDate', ignore_index=True, inplace=True)"
   ]
  },
  {
   "cell_type": "code",
   "execution_count": null,
   "id": "13f5fa16-a24f-43a2-9005-ab85382259c1",
   "metadata": {},
   "outputs": [],
   "source": [
    "groupheaders.info()"
   ]
  },
  {
   "cell_type": "code",
   "execution_count": null,
   "id": "96a6b4b0-cb37-4953-8029-75deb46bda48",
   "metadata": {},
   "outputs": [],
   "source": [
    "statements.info()"
   ]
  },
  {
   "cell_type": "code",
   "execution_count": null,
   "id": "9ba7a437-9327-4576-b459-e263c41449ea",
   "metadata": {},
   "outputs": [],
   "source": [
    "balances.info()"
   ]
  },
  {
   "cell_type": "code",
   "execution_count": null,
   "id": "9baa6c7e-4bde-4c5a-8c7d-b19c2c147dd2",
   "metadata": {},
   "outputs": [],
   "source": [
    "entries.info()"
   ]
  },
  {
   "cell_type": "markdown",
   "id": "34a42dbb-249f-43ca-ab99-95bc38fd9a40",
   "metadata": {},
   "source": [
    "## Account balance over time"
   ]
  },
  {
   "cell_type": "code",
   "execution_count": null,
   "id": "12d5af3d-f0a3-44d6-8363-9f6e8e20dbc7",
   "metadata": {},
   "outputs": [],
   "source": [
    "@interact(iban=widgets.Dropdown(options=statements.IBAN.unique(), description='Account:'))\n",
    "def plot_account_balance(iban):\n",
    "    statement_balances = pd.merge(left=balances, right=statements, left_on=['FileName','Identification'], right_on=['FileName','Identification']).query('Code==\"CLBD\" & IBAN==@iban')\n",
    "    statement_balances.loc[statement_balances['CreditDebitIndicator'] == 'DBIT', 'Amount'] *= -1\n",
    "\n",
    "    xticks = [(y, m) for y, m in statement_balances.groupby([statement_balances.Date.dt.year, statement_balances.Date.dt.month]).size().index]\n",
    "    xtick_labels = [\"{}, {}\".format(y, m) for y, _, m in statement_balances.groupby([statement_balances.Date.dt.year, statement_balances.Date.dt.month, statement_balances.Date.dt.month_name()]).size().index]\n",
    "\n",
    "    ax = (statement_balances\n",
    "        .groupby([statement_balances.Date.dt.year, statement_balances.Date.dt.month])['Amount'].mean()\n",
    "        .plot(kind='line', figsize=(14,5))\n",
    "    )\n",
    "    ax.set_xticks(np.arange(0,len(xticks),1))\n",
    "    ax.set_xticklabels(xtick_labels, rotation = 90)\n",
    "    ax.set_xlabel(None)\n",
    "    ax.yaxis.set_major_formatter(ticker.FormatStrFormatter(\"\\u20ac%d\"))\n",
    "    \n",
    "    plt.plot()"
   ]
  },
  {
   "cell_type": "markdown",
   "id": "0a5dcbfd-240e-462b-9dc0-fdce6afa83ae",
   "metadata": {},
   "source": [
    "## Income vs. expenses over time"
   ]
  },
  {
   "cell_type": "code",
   "execution_count": null,
   "id": "c32e98fb-f788-4fdb-9249-e8ae9ccefc25",
   "metadata": {},
   "outputs": [],
   "source": [
    "dates = pd.date_range(entries.ValueDate.min(), entries.ValueDate.max() + timedelta(days=31), freq='M')"
   ]
  },
  {
   "cell_type": "code",
   "execution_count": null,
   "id": "28e2ba93-12a0-4a82-9c62-105731b181f8",
   "metadata": {},
   "outputs": [],
   "source": [
    "@interact(\n",
    "    iban=widgets.Dropdown(options=statements.IBAN.unique(), description='Account:', layout={'width': '500px'}), \n",
    "    date_range=widgets.SelectionRangeSlider(\n",
    "        options=[(date.strftime(' %b %Y '), date) for date in dates],\n",
    "        index=(0, len(dates)-1),\n",
    "        description='Dates:',\n",
    "        layout={'width': '500px'}\n",
    "    )\n",
    ")\n",
    "def plot_income_expenses(iban, date_range):\n",
    "    start_date = datetime(date_range[0].year, date_range[0].month, 1)\n",
    "    end_date = date_range[1]\n",
    "    transactions = pd.merge(left=statements, right=entries, left_on=['FileName', 'Identification'], right_on=['FileName', 'Identification']).query('IBAN == @iban & ValueDate >= @start_date & ValueDate <= @end_date')\n",
    "    \n",
    "    xticks = [\"{}, {}\".format(y, m) for y, _, m in transactions.groupby([transactions.ValueDate.dt.year, transactions.ValueDate.dt.month, transactions.ValueDate.dt.month_name()]).size().index]\n",
    "    \n",
    "    ax = (transactions\n",
    "        .groupby([transactions.ValueDate.dt.year, transactions.ValueDate.dt.month, 'CreditDebitIndicator'])['Amount'].sum().unstack('CreditDebitIndicator')\n",
    "        .plot(kind='bar', figsize=(14,5), color=['tab:blue', 'tab:orange'])\n",
    "    )\n",
    "    ax.legend(['Income', 'Expenses'])\n",
    "    ax.set_xticklabels(xticks)\n",
    "    ax.set_xlabel(None)\n",
    "    ax.yaxis.set_major_formatter(ticker.FormatStrFormatter(\"\\u20ac%d\"))\n",
    "\n",
    "    # Calculate average values\n",
    "    averages = transactions.groupby([transactions.ValueDate.dt.year, transactions.ValueDate.dt.month, 'CreditDebitIndicator'])['Amount'].sum().unstack('CreditDebitIndicator').mean()\n",
    "    \n",
    "    # Plot average lines\n",
    "    ax.axhline(y=averages.get('CRDT', 0), linestyle='--', color='tab:blue')\n",
    "    ax.axhline(y=averages.get('DBIT', 0), linestyle='--', color='tab:orange')\n",
    "    \n",
    "    plt.plot()"
   ]
  },
  {
   "cell_type": "markdown",
   "id": "e7aa1d06-3979-4d45-aa0c-84d27feb8f0e",
   "metadata": {},
   "source": [
    "## Heatmap of income and expenses"
   ]
  },
  {
   "cell_type": "code",
   "execution_count": null,
   "id": "2a2c5ce9-1c4f-48f1-8a0c-391b4f0d6078",
   "metadata": {},
   "outputs": [],
   "source": [
    "@interact(iban=widgets.Dropdown(options=statements.IBAN.unique(), description='Account:'))\n",
    "def plot_heatmap_income_expenses(iban):\n",
    "    transactions = pd.merge(left=statements, right=entries, left_on=['FileName', 'Identification'], right_on=['FileName', 'Identification']).query('IBAN == @iban')\n",
    "    transactions.loc[transactions['CreditDebitIndicator'] == 'DBIT', 'Amount'] *= -1\n",
    "    df = (transactions.groupby([transactions.ValueDate.dt.year, transactions.ValueDate.dt.month])['Amount'].sum().unstack(1)\n",
    "        .rename_axis('Year').rename_axis('Month', axis='columns')\n",
    "        .reindex(list(range(1,13)), axis='columns', fill_value=0)\n",
    "        .rename(columns=lambda x: list(calendar.month_name)[x]))\n",
    "    v = max(df.max(axis=None), df.min(axis=None))\n",
    "    display(df\n",
    "        .style.format(na_rep=0, precision=2).background_gradient(cmap='RdBu', vmin=-v, vmax=v)\n",
    "        .applymap(lambda x: 'background-color: white; color: white;' if pd.isnull(x) or x==0 else '')\n",
    "    )"
   ]
  },
  {
   "cell_type": "markdown",
   "id": "120b8e7d-9fa3-499b-a2c9-dcca67782712",
   "metadata": {},
   "source": [
    "## Categorizing transactions"
   ]
  },
  {
   "cell_type": "code",
   "execution_count": null,
   "id": "9f5af23b-ffc8-46b4-892c-d65ed7ba74a5",
   "metadata": {},
   "outputs": [],
   "source": [
    "transactions = pd.merge(left=statements, right=entries, left_on=['FileName', 'Identification'], right_on=['FileName', 'Identification'])"
   ]
  },
  {
   "cell_type": "markdown",
   "id": "971a5140-d76b-4eb5-b495-03dfffee1d0c",
   "metadata": {},
   "source": [
    "Add and update categories and corresponding keywords below in order to categorize your transactions."
   ]
  },
  {
   "cell_type": "code",
   "execution_count": null,
   "id": "bfaaf0e0-e806-43d1-afcd-07a7d7067d2e",
   "metadata": {},
   "outputs": [],
   "source": [
    "categories = {\n",
    "    \"Income\": [\"Salary\", ...],\n",
    "    \"Giving\": [\"Gift\", \"WWF\", ...],\n",
    "    \"Saving\": [\"Savings\", \"Retirement\", ...],\n",
    "    \"Food\": [\"Albert Heijn\", \"Jumbo\", \"Lidl\", \"Starbucks\", \"Restaurant\", ...],\n",
    "    \"Utilities\": [\"Vitens\", \"KPN\", \"Vattenfall\", \"Internet Services\", ...],\n",
    "    \"Housing\": [\"Mortage\", ...],\n",
    "    \"Transportation\": [\"NS\", \"OV-Chipkaart\", \"Uber\", \"Lyft\", ...],\n",
    "    \"Health\": [\"Infomedics\", ...],\n",
    "    \"Insurance\": [\"AEGON\", \"Centraal beheer\", ...],\n",
    "    \"Trips and Entertainment\": [\"Booking.com\", \"AirBnB\", ...],\n",
    "    \"Personal Spending\": [\"Hairsalon\", \"Shoes\", ...],\n",
    "    \"Miscellaneous\": [\"ATM\", ...]\n",
    "}"
   ]
  },
  {
   "cell_type": "code",
   "execution_count": null,
   "id": "c78b6db6-949c-4f88-b9bb-3161fb9e273a",
   "metadata": {},
   "outputs": [],
   "source": [
    "def categorize_transaction(row):\n",
    "    columns = ['AdditionalEntryInformation', 'DetailsRemittanceInformationUnstructured']\n",
    "    for (category, keywords) in categories.items():\n",
    "        for column in columns:\n",
    "            if isinstance(row[column], str) and any([row[column].lower().find(kw.lower()) >= 0 for kw in keywords]):\n",
    "                return category\n",
    "    return None"
   ]
  },
  {
   "cell_type": "code",
   "execution_count": null,
   "id": "18b3ddda-c940-4af1-93c6-f9dc4d1fb3e7",
   "metadata": {},
   "outputs": [],
   "source": [
    "transactions['Category'] = transactions.apply(categorize_transaction, axis=1)"
   ]
  },
  {
   "cell_type": "markdown",
   "id": "c93598c2-d974-4b40-886a-890f130a36dd",
   "metadata": {},
   "source": [
    "## Inspecting categories"
   ]
  },
  {
   "cell_type": "code",
   "execution_count": null,
   "id": "06733258-87b4-456b-a07f-47d1c9dc0087",
   "metadata": {},
   "outputs": [],
   "source": [
    "@interact(iban=widgets.Dropdown(options=statements.IBAN.unique(), description='Account:'), category=widgets.Dropdown(options=list(categories.keys()) + ['Uncategorized'], description='Category:'))\n",
    "def show_transactions(iban, category):\n",
    "    columns = ['IBAN', 'Amount','CreditDebitIndicator', 'BookingDate', 'ValueDate', 'Issuer', 'AdditionalEntryInformation', 'DetailsAmount', 'DetailsCurrency',\n",
    "       'DetailsCreditorName', 'DetailsCreditorIBAN', 'DetailsRemittanceInformationUnstructured', 'DetailsDebtorName', 'DetailsDebtorIBAN', 'DetailsCreditorCountry']\n",
    "    if category == \"Uncategorized\":\n",
    "        display(transactions.query('IBAN == @iban & Category.isnull()')[columns])\n",
    "        # transactions.query('IBAN == @iban & Category.isnull()')[columns].to_csv('uncategorized.csv')\n",
    "    else:\n",
    "        display(transactions.query('IBAN == @iban & Category == @category')[columns])"
   ]
  },
  {
   "cell_type": "markdown",
   "id": "6f2fca44-24a8-406b-ab79-3692a2620144",
   "metadata": {},
   "source": [
    "## Plotting the expenses per category"
   ]
  },
  {
   "cell_type": "code",
   "execution_count": null,
   "id": "a27906f6-10d9-4d1f-b2d3-14fae05ec00a",
   "metadata": {},
   "outputs": [],
   "source": [
    "@interact(\n",
    "    iban=widgets.Dropdown(options=statements.IBAN.unique(), description='Account:', layout={'width': '500px'}), \n",
    "    date_range=widgets.SelectionRangeSlider(\n",
    "        options=[(date.strftime(' %b %Y '), date) for date in dates],\n",
    "        index=(0, len(dates)-1),\n",
    "        description='Dates:',\n",
    "        layout={'width': '500px'}\n",
    "    )\n",
    ")\n",
    "def plot_expenses_by_category(iban, date_range):\n",
    "    start_date = datetime(date_range[0].year, date_range[0].month, 1)\n",
    "    end_date = date_range[1]\n",
    "    df = transactions.query('IBAN == @iban & ValueDate >= @start_date & ValueDate <= @end_date & Category != \"Income\"').groupby('Category')['Amount'].sum()\n",
    "    df.to_csv('exp_cat.csv')\n",
    "    total = df.sum()\n",
    "    ax = df.plot(kind='pie', startangle=90, figsize=(10,10), legend=False, autopct=lambda v: '{:.1f}%\\n\\u20ac{:.2f}'.format(v, total*v/100))\n",
    "    ax.set_title(\"Expenses\")\n",
    "    ax.axis('off')\n",
    "    ax.add_artist(plt.Circle(xy=(0,0), radius=.75, facecolor='white'))\n",
    "    plt.show()"
   ]
  },
  {
   "cell_type": "code",
   "execution_count": null,
   "id": "ddb4750e-8cc1-451c-a04a-188b20249815",
   "metadata": {},
   "outputs": [],
   "source": []
  }
 ],
 "metadata": {
  "kernelspec": {
   "display_name": "Python 3 (ipykernel)",
   "language": "python",
   "name": "python3"
  },
  "language_info": {
   "codemirror_mode": {
    "name": "ipython",
    "version": 3
   },
   "file_extension": ".py",
   "mimetype": "text/x-python",
   "name": "python",
   "nbconvert_exporter": "python",
   "pygments_lexer": "ipython3",
   "version": "3.11.4"
  }
 },
 "nbformat": 4,
 "nbformat_minor": 5
}
